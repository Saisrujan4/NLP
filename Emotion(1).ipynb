{
 "cells": [
  {
   "cell_type": "code",
   "execution_count": 1,
   "metadata": {},
   "outputs": [],
   "source": [
    "#import libraries\n",
    "import numpy as np\n",
    "import pandas as pd \n",
    "import tensorflow as tf\n",
    "import nltk\n",
    "import seaborn as sns\n",
    "import re\n",
    "import matplotlib.pyplot as plt\n",
    "\n",
    "from tensorflow.keras.layers import Embedding, Dense, LSTM, Dropout, Bidirectional\n",
    "from tensorflow.keras.preprocessing.sequence import pad_sequences\n",
    "from tensorflow.keras.models import Sequential\n",
    "from tensorflow.keras.preprocessing.text import one_hot, Tokenizer\n",
    "from tensorflow.keras.callbacks import ModelCheckpoint\n",
    "from nltk.corpus import stopwords\n",
    "from nltk.stem.porter import PorterStemmer\n",
    "from sklearn import preprocessing\n",
    "from sklearn.model_selection import train_test_split\n",
    "from sklearn.metrics import accuracy_score, classification_report, confusion_matrix\n",
    "from tensorflow.keras.preprocessing.text import Tokenizer\n",
    "from tensorflow.keras.preprocessing.sequence import pad_sequences"
   ]
  },
  {
   "cell_type": "code",
   "execution_count": 4,
   "metadata": {},
   "outputs": [
    {
     "data": {
      "text/html": [
       "<div>\n",
       "<style scoped>\n",
       "    .dataframe tbody tr th:only-of-type {\n",
       "        vertical-align: middle;\n",
       "    }\n",
       "\n",
       "    .dataframe tbody tr th {\n",
       "        vertical-align: top;\n",
       "    }\n",
       "\n",
       "    .dataframe thead th {\n",
       "        text-align: right;\n",
       "    }\n",
       "</style>\n",
       "<table border=\"1\" class=\"dataframe\">\n",
       "  <thead>\n",
       "    <tr style=\"text-align: right;\">\n",
       "      <th></th>\n",
       "      <th>Text</th>\n",
       "      <th>Emotion</th>\n",
       "    </tr>\n",
       "  </thead>\n",
       "  <tbody>\n",
       "    <tr>\n",
       "      <th>0</th>\n",
       "      <td>i am feeling grouchy</td>\n",
       "      <td>anger</td>\n",
       "    </tr>\n",
       "    <tr>\n",
       "      <th>1</th>\n",
       "      <td>i think it s the easiest time of year to feel ...</td>\n",
       "      <td>anger</td>\n",
       "    </tr>\n",
       "    <tr>\n",
       "      <th>2</th>\n",
       "      <td>i feel irritated and rejected without anyone d...</td>\n",
       "      <td>anger</td>\n",
       "    </tr>\n",
       "    <tr>\n",
       "      <th>3</th>\n",
       "      <td>i already feel like i fucked up though because...</td>\n",
       "      <td>anger</td>\n",
       "    </tr>\n",
       "    <tr>\n",
       "      <th>4</th>\n",
       "      <td>i feel kinda appalled that she feels like she ...</td>\n",
       "      <td>anger</td>\n",
       "    </tr>\n",
       "  </tbody>\n",
       "</table>\n",
       "</div>"
      ],
      "text/plain": [
       "                                                Text Emotion\n",
       "0                               i am feeling grouchy   anger\n",
       "1  i think it s the easiest time of year to feel ...   anger\n",
       "2  i feel irritated and rejected without anyone d...   anger\n",
       "3  i already feel like i fucked up though because...   anger\n",
       "4  i feel kinda appalled that she feels like she ...   anger"
      ]
     },
     "execution_count": 4,
     "metadata": {},
     "output_type": "execute_result"
    }
   ],
   "source": [
    "#df=pd.read_excel('C:/Users/nakka/Documents/python/NLP/Emotion_final.xlsx') #Text data\n",
    "df=pd.read_csv('C:/Users/nakka/Documents/python/NLP/Emotion_data.csv') #Text data\n",
    "#EMBEDDING_FILE= f'C:/Users/nakka/Documents/python/NLP/glove.6B/glove.6B.100d.txt' #GloVe file path\n",
    "df.head()"
   ]
  },
  {
   "cell_type": "code",
   "execution_count": 5,
   "metadata": {},
   "outputs": [
    {
     "name": "stderr",
     "output_type": "stream",
     "text": [
      "c:\\Users\\nakka\\AppData\\Local\\Programs\\Python\\Python39\\lib\\site-packages\\seaborn\\_decorators.py:36: FutureWarning: Pass the following variable as a keyword arg: x. From version 0.12, the only valid positional argument will be `data`, and passing other arguments without an explicit keyword will result in an error or misinterpretation.\n",
      "  warnings.warn(\n"
     ]
    },
    {
     "data": {
      "text/plain": [
       "<AxesSubplot:xlabel='Emotion', ylabel='count'>"
      ]
     },
     "execution_count": 5,
     "metadata": {},
     "output_type": "execute_result"
    },
    {
     "data": {
      "image/png": "[encoded data removed]",
      "text/plain": [
       "<Figure size 432x288 with 1 Axes>"
      ]
     },
     "metadata": {
      "needs_background": "light"
     },
     "output_type": "display_data"
    }
   ],
   "source": [
    "#Target Classes\n",
    "sns.countplot(df['Emotion'])"
   ]
  },
  {
   "cell_type": "code",
   "execution_count": 3,
   "metadata": {},
   "outputs": [],
   "source": [
    "df=df.dropna() #Drop rows with NA values\n",
    "X=df.drop('Emotion',axis=1) #Input\n",
    "y=df['Emotion'] #Output"
   ]
  },
  {
   "cell_type": "code",
   "execution_count": 4,
   "metadata": {},
   "outputs": [],
   "source": [
    "messages=X.copy()\n",
    "messages.reset_index(inplace=True) #Drop NA may cause inconsistency in index"
   ]
  },
  {
   "cell_type": "code",
   "execution_count": 5,
   "metadata": {},
   "outputs": [
    {
     "name": "stderr",
     "output_type": "stream",
     "text": [
      "[nltk_data] Downloading package stopwords to\n",
      "[nltk_data]     C:\\Users\\nakka\\AppData\\Roaming\\nltk_data...\n",
      "[nltk_data]   Package stopwords is already up-to-date!\n"
     ]
    }
   ],
   "source": [
    "nltk.download('stopwords')\n",
    "ps = PorterStemmer()\n",
    "corpus = []\n",
    "for i in range(0, len(messages)):\n",
    "    review = re.sub('[^a-zA-Z]', ' ', messages['Text'][i]) #Remove Special Characters\n",
    "    review = review.lower() #Lower case \n",
    "    review = review.split()\n",
    "    review = [ps.stem(word) for word in review if not word in stopwords.words('english')] #Remove stopwords\n",
    "    review = ' '.join(review)\n",
    "    corpus.append(review)"
   ]
  },
  {
   "cell_type": "code",
   "execution_count": 6,
   "metadata": {},
   "outputs": [
    {
     "name": "stdout",
     "output_type": "stream",
     "text": [
      "Number of unique words in dictionary= 13050\n",
      "Dense vector for first word is =>  [ 1.97870001e-01  1.01999998e-01  3.78490016e-02 -3.65559995e-01\n",
      "  3.83109995e-03 -3.84149998e-01  1.15189999e-01  3.03449988e-01\n",
      "  2.55950004e-01 -1.52020001e+00  2.73539990e-01 -3.74000013e-01\n",
      " -9.09299999e-02  1.69709995e-01 -4.99080002e-01  8.44699964e-02\n",
      " -5.46809971e-01 -2.16790006e-01  4.69720006e-01  1.38630003e-01\n",
      "  3.01180005e-01  4.55309987e-01  3.01550001e-01  1.63269997e-01\n",
      " -6.13770008e-01  1.84790000e-01  3.99839997e-01 -1.86269999e-01\n",
      "  1.76909998e-01  1.14500001e-01  1.92980006e-01  4.94919986e-01\n",
      " -7.96490014e-01 -9.20360029e-01 -1.21329999e+00  5.54000020e-01\n",
      " -2.20300004e-01  1.96129993e-01  4.05999988e-01  2.24849999e-01\n",
      "  5.16109988e-02 -3.18470001e-01  9.20130014e-02 -6.14239991e-01\n",
      "  4.40770000e-01  4.15239990e-01  1.64890006e-01 -3.98880005e-01\n",
      "  2.38600001e-01  7.17469975e-02  5.74079990e-01 -4.04619992e-01\n",
      "  4.03969996e-02 -7.93830007e-02 -1.58759996e-01  5.32570004e-01\n",
      "  8.10090005e-01  1.76929999e-02  4.98710006e-01  2.60949999e-01\n",
      "  3.59349996e-01 -1.15560003e-01  1.49489999e-01  3.67170006e-01\n",
      " -3.18940014e-01 -2.43499994e-01 -7.95580000e-02 -2.11539999e-01\n",
      "  1.73030004e-01  4.23290014e-01  4.82080010e-04 -3.55809987e-01\n",
      " -2.58480012e-01  6.31669998e-01  4.84159999e-02 -9.07429960e-03\n",
      "  2.20579997e-01  5.71399987e-01 -2.01269999e-01  5.76470010e-02\n",
      " -4.50149998e-02  9.05880034e-02 -2.78479997e-02 -5.54759979e-01\n",
      "  5.68370000e-02 -3.09230000e-01 -1.99880004e-01  3.36439997e-01\n",
      " -5.82970008e-02  2.21599996e-01 -2.01879993e-01  4.25940007e-01\n",
      " -4.11689997e-01 -4.19180006e-01 -1.45899996e-01 -2.49599993e-01\n",
      " -2.72630006e-02 -1.97280005e-01 -2.06220001e-01 -8.16650018e-02]\n"
     ]
    }
   ],
   "source": [
    "# code for Glove word embedding  \n",
    "# create the dict.\n",
    "tokenizer = Tokenizer()\n",
    "tokenizer.fit_on_texts(corpus)\n",
    "  \n",
    "# number of unique words in dict.\n",
    "print(\"Number of unique words in dictionary=\", len(tokenizer.word_index))\n",
    "#print(\"Dictionary is = \", tokenizer.word_index)\n",
    "  \n",
    "# download glove and unzip it in Notebook.\n",
    "# http://nlp.stanford.edu/data/glove.6B.zip\n",
    "\n",
    "def embedding_for_vocab(filepath, word_index, embedding_dim):\n",
    "    vocab_size = len(word_index) + 1\n",
    "    # Adding again 1 because of reserved 0 index\n",
    "    embedding_matrix_vocab = np.zeros((vocab_size, embedding_dim))\n",
    "    with open(filepath, encoding=\"utf8\") as f:\n",
    "        for line in f:\n",
    "            word, *vector = line.split()\n",
    "            if word in word_index:\n",
    "                idx = word_index[word]\n",
    "                embedding_matrix_vocab[idx] = np.array(vector, dtype=np.float32)[:embedding_dim]\n",
    "    return embedding_matrix_vocab\n",
    "    \n",
    "# matrix for vocab: word_index\n",
    "embedding_dim = 100\n",
    "embedding_matrix_vocab = embedding_for_vocab('C:/Users/nakka/Documents/python/NLP/glove.6B/glove.6B.300d.txt', tokenizer.word_index, embedding_dim)\n",
    "print(\"Dense vector for first word is => \", embedding_matrix_vocab[1])"
   ]
  },
  {
   "cell_type": "code",
   "execution_count": 7,
   "metadata": {},
   "outputs": [
    {
     "name": "stdout",
     "output_type": "stream",
     "text": [
      "13051\n"
     ]
    }
   ],
   "source": [
    "#Contains the pretrained GloVe weights for the words\n",
    "voc_size=len(embedding_matrix_vocab)\n",
    "print(voc_size)"
   ]
  },
  {
   "cell_type": "code",
   "execution_count": 8,
   "metadata": {},
   "outputs": [
    {
     "name": "stdout",
     "output_type": "stream",
     "text": [
      "13051\n",
      "[[    0     0     0 ...  1780  5279 12820]\n",
      " [    0     0     0 ...  2620  7549 10103]\n",
      " [    0     0     0 ...  5279  9317  8237]\n",
      " ...\n",
      " [    0     0     0 ...  7874   734  4224]\n",
      " [    0     0     0 ... 12296  4224 11173]\n",
      " [    0     0     0 ...     0  4224  4379]]\n"
     ]
    }
   ],
   "source": [
    "#Contains the pretrained GloVe weights for the words\n",
    "voc_size=len(embedding_matrix_vocab)\n",
    "print(voc_size)#One hot representation for input\n",
    "onehot_repr=[one_hot(words, voc_size)for words in corpus]\n",
    "\n",
    "#Finding max words\n",
    "l = 0\n",
    "for x in corpus:\n",
    "    l = max(l,len(x.split(' ')))\n",
    "\n",
    "#Padding the sequences for input\n",
    "sent_length= l\n",
    "embedded_docs=pad_sequences(onehot_repr,padding='pre',maxlen=sent_length)\n",
    "print(embedded_docs)"
   ]
  },
  {
   "cell_type": "code",
   "execution_count": 9,
   "metadata": {},
   "outputs": [
    {
     "name": "stdout",
     "output_type": "stream",
     "text": [
      "[4 4 0 ... 1 1 1]\n"
     ]
    }
   ],
   "source": [
    "#Encoding the target outputs to integers\n",
    "label_encoder = preprocessing.LabelEncoder()\n",
    "\n",
    "X_final=np.array(embedded_docs) #input to array\n",
    "y = label_encoder.fit_transform(y)\n",
    "y_final=np.array(y)\n",
    "print(y_final)"
   ]
  },
  {
   "cell_type": "code",
   "execution_count": 13,
   "metadata": {},
   "outputs": [],
   "source": [
    "#X_final.shape,y_final.shape"
   ]
  },
  {
   "cell_type": "code",
   "execution_count": 10,
   "metadata": {},
   "outputs": [],
   "source": [
    "#Train-Test split\n",
    "X_train, X_test, y_train, y_test = train_test_split(X_final, y_final, test_size=0.2, random_state=42) \n",
    "#Train-Validation split\n",
    "X_train, X_val, y_train, y_val = train_test_split(X_train, y_train, test_size=0.2, random_state=21)\n",
    "#X_train.shape,X_val.shape,X_test.shape"
   ]
  },
  {
   "cell_type": "code",
   "execution_count": 11,
   "metadata": {},
   "outputs": [
    {
     "name": "stdout",
     "output_type": "stream",
     "text": [
      "Model: \"sequential\"\n",
      "_________________________________________________________________\n",
      " Layer (type)                Output Shape              Param #   \n",
      "=================================================================\n",
      " embedding (Embedding)       (None, None, 100)         1305100   \n",
      "                                                                 \n",
      " dropout (Dropout)           (None, None, 100)         0         \n",
      "                                                                 \n",
      " bidirectional (Bidirectiona  (None, 128)              84480     \n",
      " l)                                                              \n",
      "                                                                 \n",
      " dropout_1 (Dropout)         (None, 128)               0         \n",
      "                                                                 \n",
      " dense (Dense)               (None, 64)                8256      \n",
      "                                                                 \n",
      " dropout_2 (Dropout)         (None, 64)                0         \n",
      "                                                                 \n",
      " dense_1 (Dense)             (None, 6)                 390       \n",
      "                                                                 \n",
      "=================================================================\n",
      "Total params: 1,398,226\n",
      "Trainable params: 1,398,226\n",
      "Non-trainable params: 0\n",
      "_________________________________________________________________\n"
     ]
    }
   ],
   "source": [
    "# Creating model\n",
    "model=Sequential()\n",
    "model.add(Embedding(voc_size, embedding_dim, weights=[embedding_matrix_vocab]))\n",
    "model.add(Dropout(0.2))\n",
    "model.add(Bidirectional(LSTM(64)))\n",
    "model.add(Dropout(0.2))\n",
    "model.add(Dense(64, activation='relu',kernel_regularizer=tf.keras.regularizers.l1(0.01))) #L1 regularization\n",
    "model.add(Dropout(0.2))\n",
    "model.add(Dense(6,activation='softmax'))\n",
    "model.compile(loss='sparse_categorical_crossentropy',optimizer= tf.keras.optimizers.Adam(learning_rate=0.001),metrics=['accuracy'])\n",
    "model.summary()"
   ]
  },
  {
   "cell_type": "code",
   "execution_count": 12,
   "metadata": {},
   "outputs": [
    {
     "name": "stdout",
     "output_type": "stream",
     "text": [
      "Epoch 1/40\n",
      "215/215 [==============================] - ETA: 0s - loss: 3.7054 - accuracy: 0.3228\n",
      "Epoch 00001: val_loss improved from inf to 1.64034, saving model to weights.h5\n",
      "215/215 [==============================] - 12s 45ms/step - loss: 3.7054 - accuracy: 0.3228 - val_loss: 1.6403 - val_accuracy: 0.3262\n",
      "Epoch 2/40\n",
      "214/215 [============================>.] - ETA: 0s - loss: 1.5603 - accuracy: 0.3506\n",
      "Epoch 00002: val_loss improved from 1.64034 to 1.44492, saving model to weights.h5\n",
      "215/215 [==============================] - 9s 42ms/step - loss: 1.5603 - accuracy: 0.3509 - val_loss: 1.4449 - val_accuracy: 0.4560\n",
      "Epoch 3/40\n",
      "214/215 [============================>.] - ETA: 0s - loss: 1.2788 - accuracy: 0.5760\n",
      "Epoch 00003: val_loss improved from 1.44492 to 1.09849, saving model to weights.h5\n",
      "215/215 [==============================] - 9s 42ms/step - loss: 1.2780 - accuracy: 0.5764 - val_loss: 1.0985 - val_accuracy: 0.6785\n",
      "Epoch 4/40\n",
      "215/215 [==============================] - ETA: 0s - loss: 1.0088 - accuracy: 0.6921\n",
      "Epoch 00004: val_loss improved from 1.09849 to 0.93791, saving model to weights.h5\n",
      "215/215 [==============================] - 9s 42ms/step - loss: 1.0088 - accuracy: 0.6921 - val_loss: 0.9379 - val_accuracy: 0.7120\n",
      "Epoch 5/40\n",
      "215/215 [==============================] - ETA: 0s - loss: 0.8475 - accuracy: 0.7467\n",
      "Epoch 00005: val_loss improved from 0.93791 to 0.82368, saving model to weights.h5\n",
      "215/215 [==============================] - 9s 41ms/step - loss: 0.8475 - accuracy: 0.7467 - val_loss: 0.8237 - val_accuracy: 0.7749\n",
      "Epoch 6/40\n",
      "214/215 [============================>.] - ETA: 0s - loss: 0.7182 - accuracy: 0.8156\n",
      "Epoch 00006: val_loss improved from 0.82368 to 0.73931, saving model to weights.h5\n",
      "215/215 [==============================] - 9s 41ms/step - loss: 0.7183 - accuracy: 0.8157 - val_loss: 0.7393 - val_accuracy: 0.8084\n",
      "Epoch 7/40\n",
      "215/215 [==============================] - ETA: 0s - loss: 0.6350 - accuracy: 0.8402\n",
      "Epoch 00007: val_loss improved from 0.73931 to 0.68048, saving model to weights.h5\n",
      "215/215 [==============================] - 9s 41ms/step - loss: 0.6350 - accuracy: 0.8402 - val_loss: 0.6805 - val_accuracy: 0.8195\n",
      "Epoch 8/40\n",
      "215/215 [==============================] - ETA: 0s - loss: 0.5721 - accuracy: 0.8636\n",
      "Epoch 00008: val_loss improved from 0.68048 to 0.66159, saving model to weights.h5\n",
      "215/215 [==============================] - 9s 41ms/step - loss: 0.5721 - accuracy: 0.8636 - val_loss: 0.6616 - val_accuracy: 0.8279\n",
      "Epoch 9/40\n",
      "215/215 [==============================] - ETA: 0s - loss: 0.5280 - accuracy: 0.8760\n",
      "Epoch 00009: val_loss did not improve from 0.66159\n",
      "215/215 [==============================] - 9s 42ms/step - loss: 0.5280 - accuracy: 0.8760 - val_loss: 0.6622 - val_accuracy: 0.8328\n",
      "Epoch 10/40\n",
      "215/215 [==============================] - ETA: 0s - loss: 0.4957 - accuracy: 0.8825\n",
      "Epoch 00010: val_loss did not improve from 0.66159\n",
      "215/215 [==============================] - 9s 41ms/step - loss: 0.4957 - accuracy: 0.8825 - val_loss: 0.6650 - val_accuracy: 0.8273\n",
      "Epoch 11/40\n",
      "214/215 [============================>.] - ETA: 0s - loss: 0.4714 - accuracy: 0.8880\n",
      "Epoch 00011: val_loss improved from 0.66159 to 0.64651, saving model to weights.h5\n",
      "215/215 [==============================] - 9s 41ms/step - loss: 0.4712 - accuracy: 0.8881 - val_loss: 0.6465 - val_accuracy: 0.8308\n",
      "Epoch 12/40\n",
      "215/215 [==============================] - ETA: 0s - loss: 0.4382 - accuracy: 0.8983\n",
      "Epoch 00012: val_loss improved from 0.64651 to 0.64166, saving model to weights.h5\n",
      "215/215 [==============================] - 9s 41ms/step - loss: 0.4382 - accuracy: 0.8983 - val_loss: 0.6417 - val_accuracy: 0.8305\n",
      "Epoch 13/40\n",
      "215/215 [==============================] - ETA: 0s - loss: 0.4152 - accuracy: 0.9064\n",
      "Epoch 00013: val_loss did not improve from 0.64166\n",
      "215/215 [==============================] - 9s 41ms/step - loss: 0.4152 - accuracy: 0.9064 - val_loss: 0.6714 - val_accuracy: 0.8375\n",
      "Epoch 14/40\n",
      "214/215 [============================>.] - ETA: 0s - loss: 0.3934 - accuracy: 0.9116\n",
      "Epoch 00014: val_loss did not improve from 0.64166\n",
      "215/215 [==============================] - 9s 42ms/step - loss: 0.3937 - accuracy: 0.9114 - val_loss: 0.6441 - val_accuracy: 0.8448\n",
      "Epoch 15/40\n",
      "215/215 [==============================] - ETA: 0s - loss: 0.3764 - accuracy: 0.9220\n",
      "Epoch 00015: val_loss did not improve from 0.64166\n",
      "215/215 [==============================] - 9s 43ms/step - loss: 0.3764 - accuracy: 0.9220 - val_loss: 0.6425 - val_accuracy: 0.8477\n",
      "Epoch 16/40\n",
      "215/215 [==============================] - ETA: 0s - loss: 0.3502 - accuracy: 0.9327\n",
      "Epoch 00016: val_loss did not improve from 0.64166\n",
      "215/215 [==============================] - 9s 43ms/step - loss: 0.3502 - accuracy: 0.9327 - val_loss: 0.6482 - val_accuracy: 0.8515\n",
      "Epoch 17/40\n",
      "215/215 [==============================] - ETA: 0s - loss: 0.3281 - accuracy: 0.9385\n",
      "Epoch 00017: val_loss improved from 0.64166 to 0.63687, saving model to weights.h5\n",
      "215/215 [==============================] - 9s 43ms/step - loss: 0.3281 - accuracy: 0.9385 - val_loss: 0.6369 - val_accuracy: 0.8506\n",
      "Epoch 18/40\n",
      "215/215 [==============================] - ETA: 0s - loss: 0.3132 - accuracy: 0.9442\n",
      "Epoch 00018: val_loss did not improve from 0.63687\n",
      "215/215 [==============================] - 9s 44ms/step - loss: 0.3132 - accuracy: 0.9442 - val_loss: 0.6561 - val_accuracy: 0.8529\n",
      "Epoch 19/40\n",
      "215/215 [==============================] - ETA: 0s - loss: 0.3009 - accuracy: 0.9468\n",
      "Epoch 00019: val_loss did not improve from 0.63687\n",
      "215/215 [==============================] - 9s 44ms/step - loss: 0.3009 - accuracy: 0.9468 - val_loss: 0.6628 - val_accuracy: 0.8547\n",
      "Epoch 20/40\n",
      "215/215 [==============================] - ETA: 0s - loss: 0.2810 - accuracy: 0.9530\n",
      "Epoch 00020: val_loss improved from 0.63687 to 0.63455, saving model to weights.h5\n",
      "215/215 [==============================] - 9s 44ms/step - loss: 0.2810 - accuracy: 0.9530 - val_loss: 0.6346 - val_accuracy: 0.8532\n",
      "Epoch 21/40\n",
      "215/215 [==============================] - ETA: 0s - loss: 0.2703 - accuracy: 0.9551\n",
      "Epoch 00021: val_loss did not improve from 0.63455\n",
      "215/215 [==============================] - 9s 44ms/step - loss: 0.2703 - accuracy: 0.9551 - val_loss: 0.6468 - val_accuracy: 0.8567\n",
      "Epoch 22/40\n",
      "214/215 [============================>.] - ETA: 0s - loss: 0.2670 - accuracy: 0.9569\n",
      "Epoch 00022: val_loss did not improve from 0.63455\n",
      "215/215 [==============================] - 10s 44ms/step - loss: 0.2670 - accuracy: 0.9569 - val_loss: 0.6679 - val_accuracy: 0.8535\n",
      "Epoch 23/40\n",
      "215/215 [==============================] - ETA: 0s - loss: 0.2546 - accuracy: 0.9597\n",
      "Epoch 00023: val_loss did not improve from 0.63455\n",
      "215/215 [==============================] - 9s 44ms/step - loss: 0.2546 - accuracy: 0.9597 - val_loss: 0.6531 - val_accuracy: 0.8526\n",
      "Epoch 24/40\n",
      "215/215 [==============================] - ETA: 0s - loss: 0.2465 - accuracy: 0.9620\n",
      "Epoch 00024: val_loss did not improve from 0.63455\n",
      "215/215 [==============================] - 9s 43ms/step - loss: 0.2465 - accuracy: 0.9620 - val_loss: 0.6512 - val_accuracy: 0.8579\n",
      "Epoch 25/40\n",
      "215/215 [==============================] - ETA: 0s - loss: 0.2394 - accuracy: 0.9622\n",
      "Epoch 00025: val_loss did not improve from 0.63455\n",
      "215/215 [==============================] - 10s 44ms/step - loss: 0.2394 - accuracy: 0.9622 - val_loss: 0.6488 - val_accuracy: 0.8599\n",
      "Epoch 26/40\n",
      "215/215 [==============================] - ETA: 0s - loss: 0.2263 - accuracy: 0.9677\n",
      "Epoch 00026: val_loss did not improve from 0.63455\n",
      "215/215 [==============================] - 9s 44ms/step - loss: 0.2263 - accuracy: 0.9677 - val_loss: 0.6586 - val_accuracy: 0.8602\n",
      "Epoch 27/40\n",
      "215/215 [==============================] - ETA: 0s - loss: 0.2253 - accuracy: 0.9666\n",
      "Epoch 00027: val_loss did not improve from 0.63455\n",
      "215/215 [==============================] - 9s 43ms/step - loss: 0.2253 - accuracy: 0.9666 - val_loss: 0.6482 - val_accuracy: 0.8582\n",
      "Epoch 28/40\n",
      "214/215 [============================>.] - ETA: 0s - loss: 0.2152 - accuracy: 0.9690\n",
      "Epoch 00028: val_loss did not improve from 0.63455\n",
      "215/215 [==============================] - 9s 44ms/step - loss: 0.2155 - accuracy: 0.9690 - val_loss: 0.6515 - val_accuracy: 0.8602\n",
      "Epoch 29/40\n",
      "214/215 [============================>.] - ETA: 0s - loss: 0.2056 - accuracy: 0.9719\n",
      "Epoch 00029: val_loss did not improve from 0.63455\n",
      "215/215 [==============================] - 9s 43ms/step - loss: 0.2058 - accuracy: 0.9717 - val_loss: 0.7151 - val_accuracy: 0.8559\n",
      "Epoch 30/40\n",
      "214/215 [============================>.] - ETA: 0s - loss: 0.2028 - accuracy: 0.9714\n",
      "Epoch 00030: val_loss did not improve from 0.63455\n",
      "215/215 [==============================] - 9s 43ms/step - loss: 0.2026 - accuracy: 0.9715 - val_loss: 0.7015 - val_accuracy: 0.8553\n",
      "Epoch 31/40\n",
      "215/215 [==============================] - ETA: 0s - loss: 0.1939 - accuracy: 0.9735\n",
      "Epoch 00031: val_loss did not improve from 0.63455\n",
      "215/215 [==============================] - 9s 43ms/step - loss: 0.1939 - accuracy: 0.9735 - val_loss: 0.7230 - val_accuracy: 0.8544\n",
      "Epoch 32/40\n",
      "215/215 [==============================] - ETA: 0s - loss: 0.1901 - accuracy: 0.9740\n",
      "Epoch 00032: val_loss did not improve from 0.63455\n",
      "215/215 [==============================] - 10s 44ms/step - loss: 0.1901 - accuracy: 0.9740 - val_loss: 0.7021 - val_accuracy: 0.8573\n",
      "Epoch 33/40\n",
      "214/215 [============================>.] - ETA: 0s - loss: 0.1965 - accuracy: 0.9724\n",
      "Epoch 00033: val_loss did not improve from 0.63455\n",
      "215/215 [==============================] - 9s 44ms/step - loss: 0.1965 - accuracy: 0.9724 - val_loss: 0.6911 - val_accuracy: 0.8593\n",
      "Epoch 34/40\n",
      "215/215 [==============================] - ETA: 0s - loss: 0.1945 - accuracy: 0.9723\n",
      "Epoch 00034: val_loss did not improve from 0.63455\n",
      "215/215 [==============================] - 9s 43ms/step - loss: 0.1945 - accuracy: 0.9723 - val_loss: 0.6550 - val_accuracy: 0.8640\n",
      "Epoch 35/40\n",
      "215/215 [==============================] - ETA: 0s - loss: 0.1832 - accuracy: 0.9741\n",
      "Epoch 00035: val_loss did not improve from 0.63455\n",
      "215/215 [==============================] - 9s 43ms/step - loss: 0.1832 - accuracy: 0.9741 - val_loss: 0.6656 - val_accuracy: 0.8559\n",
      "Epoch 36/40\n",
      "215/215 [==============================] - ETA: 0s - loss: 0.1824 - accuracy: 0.9749\n",
      "Epoch 00036: val_loss did not improve from 0.63455\n",
      "215/215 [==============================] - 9s 43ms/step - loss: 0.1824 - accuracy: 0.9749 - val_loss: 0.7022 - val_accuracy: 0.8567\n",
      "Epoch 37/40\n",
      "214/215 [============================>.] - ETA: 0s - loss: 0.1698 - accuracy: 0.9790\n",
      "Epoch 00037: val_loss did not improve from 0.63455\n",
      "215/215 [==============================] - 9s 43ms/step - loss: 0.1700 - accuracy: 0.9788 - val_loss: 0.7154 - val_accuracy: 0.8593\n",
      "Epoch 38/40\n",
      "215/215 [==============================] - ETA: 0s - loss: 0.1685 - accuracy: 0.9803\n",
      "Epoch 00038: val_loss did not improve from 0.63455\n",
      "215/215 [==============================] - 9s 43ms/step - loss: 0.1685 - accuracy: 0.9803 - val_loss: 0.7124 - val_accuracy: 0.8593\n",
      "Epoch 39/40\n",
      "215/215 [==============================] - ETA: 0s - loss: 0.1658 - accuracy: 0.9786\n",
      "Epoch 00039: val_loss did not improve from 0.63455\n",
      "215/215 [==============================] - 9s 43ms/step - loss: 0.1658 - accuracy: 0.9786 - val_loss: 0.7586 - val_accuracy: 0.8570\n",
      "Epoch 40/40\n",
      "215/215 [==============================] - ETA: 0s - loss: 0.1687 - accuracy: 0.9790\n",
      "Epoch 00040: val_loss did not improve from 0.63455\n",
      "215/215 [==============================] - 9s 43ms/step - loss: 0.1687 - accuracy: 0.9790 - val_loss: 0.7012 - val_accuracy: 0.8602\n"
     ]
    }
   ],
   "source": [
    "model_save = ModelCheckpoint('weights.h5', save_best_only = True, save_weights_only = True, monitor = 'val_loss', mode = 'min', verbose = 1)\n",
    "history = model.fit(X_train,y_train,validation_data=(X_val,y_val),epochs=40,batch_size=64,callbacks = [model_save])"
   ]
  },
  {
   "cell_type": "code",
   "execution_count": 13,
   "metadata": {},
   "outputs": [
    {
     "name": "stdout",
     "output_type": "stream",
     "text": [
      "dict_keys(['loss', 'accuracy', 'val_loss', 'val_accuracy'])\n"
     ]
    },
    {
     "data": {
      "image/png": "[encoded data removed]",
      "text/plain": [
       "<Figure size 432x288 with 1 Axes>"
      ]
     },
     "metadata": {
      "needs_background": "light"
     },
     "output_type": "display_data"
    },
    {
     "data": {
      "image/png": "[encoded data removed]",
      "text/plain": [
       "<Figure size 432x288 with 1 Axes>"
      ]
     },
     "metadata": {
      "needs_background": "light"
     },
     "output_type": "display_data"
    }
   ],
   "source": [
    "print(history.history.keys())\n",
    "#  \"Accuracy\"\n",
    "plt.plot(history.history['accuracy'])\n",
    "plt.plot(history.history['val_accuracy'])\n",
    "plt.title('model accuracy')\n",
    "plt.ylabel('accuracy')\n",
    "plt.xlabel('epoch')\n",
    "plt.legend(['train', 'validation'], loc='upper left')\n",
    "plt.show()\n",
    "# \"Loss\"\n",
    "plt.plot(history.history['loss'])\n",
    "plt.plot(history.history['val_loss'])\n",
    "plt.title('model loss')\n",
    "plt.ylabel('loss')\n",
    "plt.xlabel('epoch')\n",
    "plt.legend(['train', 'validation'], loc='upper left')\n",
    "plt.show()"
   ]
  },
  {
   "cell_type": "code",
   "execution_count": 14,
   "metadata": {},
   "outputs": [
    {
     "name": "stdout",
     "output_type": "stream",
     "text": [
      "[2 0 4 ... 0 0 2]\n",
      "[3 0 0 ... 1 4 2]\n",
      "[5 1 4 ... 3 0 4]\n"
     ]
    }
   ],
   "source": [
    "y_pred_test=model.predict(X_test).argmax(axis=1)\n",
    "print(y_pred_test)\n",
    "y_pred_train=model.predict(X_train).argmax(axis=1)\n",
    "print(y_pred_train)\n",
    "y_pred_val=model.predict(X_val).argmax(axis=1)\n",
    "print(y_pred_val)"
   ]
  },
  {
   "cell_type": "code",
   "execution_count": 15,
   "metadata": {},
   "outputs": [
    {
     "name": "stdout",
     "output_type": "stream",
     "text": [
      "Training accuracy:  0.991553193038666\n",
      "Testing accuracy:  0.8620689655172413\n",
      "Validation accuracy:  0.860221316249272\n"
     ]
    }
   ],
   "source": [
    "#Accuracy score\n",
    "print(\"Training accuracy: \",accuracy_score(y_train,y_pred_train))\n",
    "print(\"Testing accuracy: \",accuracy_score(y_test,y_pred_test))\n",
    "print(\"Validation accuracy: \",accuracy_score(y_val,y_pred_val))"
   ]
  },
  {
   "cell_type": "code",
   "execution_count": 16,
   "metadata": {},
   "outputs": [],
   "source": [
    "model.save('weights.h5')"
   ]
  },
  {
   "cell_type": "code",
   "execution_count": 17,
   "metadata": {},
   "outputs": [
    {
     "name": "stdout",
     "output_type": "stream",
     "text": [
      "              precision    recall  f1-score   support\n",
      "\n",
      "           0    0.87637   0.90762   0.89172       617\n",
      "           1    0.83301   0.79849   0.81538       531\n",
      "           2    0.90160   0.85590   0.87816      1381\n",
      "           3    0.68466   0.75786   0.71940       318\n",
      "           4    0.89838   0.91386   0.90606      1277\n",
      "           5    0.69231   0.75000   0.72000       168\n",
      "\n",
      "    accuracy                        0.86207      4292\n",
      "   macro avg    0.81439   0.83062   0.82179      4292\n",
      "weighted avg    0.86426   0.86207   0.86269      4292\n",
      "\n"
     ]
    }
   ],
   "source": [
    "#Classification report\n",
    "print(classification_report(y_test, y_pred_test, digits=5))"
   ]
  },
  {
   "cell_type": "code",
   "execution_count": null,
   "metadata": {},
   "outputs": [
    {
     "name": "stdout",
     "output_type": "stream",
     "text": [
      "Confusion Matrix\n",
      "AxesSubplot(0.125,0.125;0.62x0.755)\n"
     ]
    },
    {
     "data": {
      "image/png": "[encoded data removed]",
      "text/plain": [
       "<Figure size 432x288 with 2 Axes>"
      ]
     },
     "metadata": {},
     "output_type": "display_data"
    }
   ],
   "source": [
    "#Confusion Matrix\n",
    "print('Confusion Matrix')\n",
    "print(sns.heatmap(confusion_matrix(y_test, y_pred_test),annot=True,fmt=\"d\"))"
   ]
  },
  {
   "cell_type": "code",
   "execution_count": 19,
   "metadata": {},
   "outputs": [
    {
     "name": "stdout",
     "output_type": "stream",
     "text": [
      "{'anger': 0, 'fear': 1, 'happy': 2, 'love': 3, 'sadness': 4, 'surprise': 5}\n"
     ]
    }
   ],
   "source": [
    "#Mapping of target classes using label-encoder\n",
    "le_name_mapping = dict(zip(label_encoder.classes_, label_encoder.transform(label_encoder.classes_)))\n",
    "print(le_name_mapping)"
   ]
  },
  {
   "cell_type": "code",
   "execution_count": 20,
   "metadata": {},
   "outputs": [],
   "source": [
    "#Example\n",
    "def predict_emotion(stri):\n",
    "    review = re.sub('[^a-zA-Z]', ' ', stri)\n",
    "    review = review.lower()\n",
    "    review = review.split()\n",
    "    review = [ps.stem(word) for word in review if not word in stopwords.words('english')]\n",
    "    review = ' '.join(review)\n",
    "    onehot_repr = [one_hot(review,voc_size)] \n",
    "    embed = pad_sequences(onehot_repr,padding='pre',maxlen=sent_length)\n",
    "    predicti = model.predict(embed)\n",
    "    return label_encoder.classes_[np.argmax(predicti)]"
   ]
  },
  {
   "cell_type": "code",
   "execution_count": 21,
   "metadata": {},
   "outputs": [
    {
     "data": {
      "text/plain": [
       "'anger'"
      ]
     },
     "execution_count": 21,
     "metadata": {},
     "output_type": "execute_result"
    }
   ],
   "source": [
    "predict_emotion(\"This is outrageous, how can you talk like that?\")"
   ]
  },
  {
   "cell_type": "code",
   "execution_count": 22,
   "metadata": {},
   "outputs": [
    {
     "data": {
      "text/plain": [
       "'happy'"
      ]
     },
     "execution_count": 22,
     "metadata": {},
     "output_type": "execute_result"
    }
   ],
   "source": [
    "predict_emotion('He was speechless when he found out he was accepted to this new job')"
   ]
  },
  {
   "cell_type": "code",
   "execution_count": 23,
   "metadata": {},
   "outputs": [
    {
     "data": {
      "text/plain": [
       "'surprise'"
      ]
     },
     "execution_count": 23,
     "metadata": {},
     "output_type": "execute_result"
    }
   ],
   "source": [
    "predict_emotion('i just don t feel as impressed and as happy with things like i used to')"
   ]
  },
  {
   "cell_type": "code",
   "execution_count": 24,
   "metadata": {},
   "outputs": [
    {
     "data": {
      "text/plain": [
       "'sadness'"
      ]
     },
     "execution_count": 24,
     "metadata": {},
     "output_type": "execute_result"
    }
   ],
   "source": [
    "predict_emotion('i feel like a miserable piece of garbage')"
   ]
  },
  {
   "cell_type": "code",
   "execution_count": 25,
   "metadata": {},
   "outputs": [
    {
     "data": {
      "text/plain": [
       "'fear'"
      ]
     },
     "execution_count": 25,
     "metadata": {},
     "output_type": "execute_result"
    }
   ],
   "source": [
    "predict_emotion('you look scary and strange')"
   ]
  },
  {
   "cell_type": "code",
   "execution_count": 26,
   "metadata": {},
   "outputs": [
    {
     "data": {
      "text/plain": [
       "'surprise'"
      ]
     },
     "execution_count": 26,
     "metadata": {},
     "output_type": "execute_result"
    }
   ],
   "source": [
    "predict_emotion('oops it is strange')"
   ]
  },
  {
   "cell_type": "code",
   "execution_count": 27,
   "metadata": {},
   "outputs": [
    {
     "data": {
      "text/plain": [
       "'love'"
      ]
     },
     "execution_count": 27,
     "metadata": {},
     "output_type": "execute_result"
    }
   ],
   "source": [
    "predict_emotion('i feel like some of you have pains and you cannot imagine becoming passionate about the group or the idea that is causing pain')"
   ]
  },
  {
   "cell_type": "code",
   "execution_count": 28,
   "metadata": {},
   "outputs": [
    {
     "data": {
      "text/plain": [
       "'sadness'"
      ]
     },
     "execution_count": 28,
     "metadata": {},
     "output_type": "execute_result"
    }
   ],
   "source": [
    "predict_emotion('it is painful to me')"
   ]
  },
  {
   "cell_type": "code",
   "execution_count": 29,
   "metadata": {},
   "outputs": [
    {
     "data": {
      "text/plain": [
       "'happy'"
      ]
     },
     "execution_count": 29,
     "metadata": {},
     "output_type": "execute_result"
    }
   ],
   "source": [
    "predict_emotion('im passionate about my future')"
   ]
  },
  {
   "cell_type": "code",
   "execution_count": 30,
   "metadata": {},
   "outputs": [
    {
     "data": {
      "text/plain": [
       "'fear'"
      ]
     },
     "execution_count": 30,
     "metadata": {},
     "output_type": "execute_result"
    }
   ],
   "source": [
    "predict_emotion('i feel vulnerable and alone')"
   ]
  },
  {
   "cell_type": "code",
   "execution_count": 31,
   "metadata": {},
   "outputs": [
    {
     "data": {
      "text/plain": [
       "'sadness'"
      ]
     },
     "execution_count": 31,
     "metadata": {},
     "output_type": "execute_result"
    }
   ],
   "source": [
    "predict_emotion('i feel alone')"
   ]
  },
  {
   "cell_type": "code",
   "execution_count": 26,
   "metadata": {},
   "outputs": [
    {
     "data": {
      "text/plain": [
       "'happy'"
      ]
     },
     "execution_count": 26,
     "metadata": {},
     "output_type": "execute_result"
    }
   ],
   "source": [
    "predict_emotion('all of us are living happily')"
   ]
  },
  {
   "cell_type": "code",
   "execution_count": 27,
   "metadata": {},
   "outputs": [
    {
     "data": {
      "text/plain": [
       "'happy'"
      ]
     },
     "execution_count": 27,
     "metadata": {},
     "output_type": "execute_result"
    }
   ],
   "source": [
    "predict_emotion('im feeling good and happy')"
   ]
  },
  {
   "cell_type": "code",
   "execution_count": 34,
   "metadata": {},
   "outputs": [
    {
     "data": {
      "text/plain": [
       "'sadness'"
      ]
     },
     "execution_count": 34,
     "metadata": {},
     "output_type": "execute_result"
    }
   ],
   "source": [
    "predict_emotion('He is not so happy today')"
   ]
  },
  {
   "cell_type": "code",
   "execution_count": 35,
   "metadata": {},
   "outputs": [
    {
     "data": {
      "text/plain": [
       "'sadness'"
      ]
     },
     "execution_count": 35,
     "metadata": {},
     "output_type": "execute_result"
    }
   ],
   "source": [
    "predict_emotion('Due to heavy rain he is unhappy')"
   ]
  },
  {
   "cell_type": "code",
   "execution_count": 36,
   "metadata": {},
   "outputs": [
    {
     "data": {
      "text/plain": [
       "'sadness'"
      ]
     },
     "execution_count": 36,
     "metadata": {},
     "output_type": "execute_result"
    }
   ],
   "source": [
    "predict_emotion('The tears came , and rapidly dissolved her angry expression to one of utter despai')"
   ]
  },
  {
   "cell_type": "code",
   "execution_count": 37,
   "metadata": {},
   "outputs": [
    {
     "data": {
      "text/plain": [
       "'sadness'"
      ]
     },
     "execution_count": 37,
     "metadata": {},
     "output_type": "execute_result"
    }
   ],
   "source": [
    "predict_emotion('Shelley sat down beside the patient and smiled at him , the cheerfulness coming from somewhere behind her deep despai')"
   ]
  },
  {
   "cell_type": "code",
   "execution_count": 38,
   "metadata": {},
   "outputs": [
    {
     "data": {
      "text/plain": [
       "'love'"
      ]
     },
     "execution_count": 38,
     "metadata": {},
     "output_type": "execute_result"
    }
   ],
   "source": [
    "predict_emotion('The look of deep sorrow on her face cut into him far more deeply than any aggresive words could have done')"
   ]
  },
  {
   "cell_type": "code",
   "execution_count": 28,
   "metadata": {},
   "outputs": [
    {
     "data": {
      "text/plain": [
       "'happy'"
      ]
     },
     "execution_count": 28,
     "metadata": {},
     "output_type": "execute_result"
    }
   ],
   "source": [
    "predict_emotion('i feel calm just thinking about it')"
   ]
  },
  {
   "cell_type": "code",
   "execution_count": 29,
   "metadata": {},
   "outputs": [
    {
     "data": {
      "text/plain": [
       "'sadness'"
      ]
     },
     "execution_count": 29,
     "metadata": {},
     "output_type": "execute_result"
    }
   ],
   "source": [
    "predict_emotion('he is unhappy')"
   ]
  }
 ],
 "metadata": {
  "kernelspec": {
   "display_name": "Python 3.9.6 64-bit",
   "language": "python",
   "name": "python3"
  },
  "language_info": {
   "codemirror_mode": {
    "name": "ipython",
    "version": 3
   },
   "file_extension": ".py",
   "mimetype": "text/x-python",
   "name": "python",
   "nbconvert_exporter": "python",
   "pygments_lexer": "ipython3",
   "version": "3.9.6"
  },
  "orig_nbformat": 4,
  "vscode": {
   "interpreter": {
    "hash": "65bab2dc8ad2a90119d332fecbb9761697c5100aab040e4d5b0de231f09892d2"
   }
  }
 },
 "nbformat": 4,
 "nbformat_minor": 2
}
